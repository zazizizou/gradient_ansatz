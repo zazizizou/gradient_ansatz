{
 "cells": [
  {
   "cell_type": "code",
   "execution_count": 1,
   "metadata": {
    "collapsed": true
   },
   "outputs": [],
   "source": [
    "import numpy as np\n",
    "import os\n",
    "import cv2\n",
    "import matplotlib.pyplot as plt\n",
    "import matplotlib.patches as patches\n",
    "%matplotlib inline\n",
    "import platform\n",
    "from scipy.optimize import curve_fit\n",
    "from mpl_toolkits.mplot3d import Axes3D\n",
    "from skimage import morphology, feature, transform, filters"
   ]
  },
  {
   "cell_type": "code",
   "execution_count": 26,
   "metadata": {},
   "outputs": [],
   "source": [
    "try:\n",
    "    from shapes import *\n",
    "    from detect_bubbles import *\n",
    "    from utils import *\n",
    "except ImportError:\n",
    "    pass"
   ]
  },
  {
   "cell_type": "code",
   "execution_count": 3,
   "metadata": {},
   "outputs": [],
   "source": [
    "from classify_bubble import *\n",
    "from bubbleNet1D import *"
   ]
  },
  {
   "cell_type": "code",
   "execution_count": 4,
   "metadata": {
    "collapsed": true
   },
   "outputs": [],
   "source": [
    "%load_ext autoreload\n",
    "%autoreload 2"
   ]
  },
  {
   "cell_type": "code",
   "execution_count": 5,
   "metadata": {},
   "outputs": [
    {
     "data": {
      "text/plain": [
       "'Windows'"
      ]
     },
     "execution_count": 5,
     "metadata": {},
     "output_type": "execute_result"
    }
   ],
   "source": [
    "platform.system()"
   ]
  },
  {
   "cell_type": "code",
   "execution_count": 6,
   "metadata": {
    "collapsed": true
   },
   "outputs": [],
   "source": [
    "plat = platform.system()\n",
    "if plat == \"Darwin\":\n",
    "    calib_dir =  \"/Users/Habib/Google Drive/Uni Heidelberg/11 WS 2017-2018/Masterarbeit/Messungen/Reihe_32_calib_radius\" \n",
    "elif plat == \"Windows\":\n",
    "    calib_dir = \"../Messungen/Reihe_32_calib_radius/\""
   ]
  },
  {
   "cell_type": "code",
   "execution_count": 7,
   "metadata": {
    "collapsed": true
   },
   "outputs": [],
   "source": [
    "cim = []\n",
    "bgim = []\n",
    "filenames = []\n",
    "for file in os.listdir(calib_dir):\n",
    "    filenames.append(file)\n",
    "\n",
    "filenames.sort() # sort after creation date since date is in the name"
   ]
  },
  {
   "cell_type": "code",
   "execution_count": 8,
   "metadata": {
    "collapsed": true
   },
   "outputs": [],
   "source": [
    "cim = []\n",
    "bgim = []\n",
    "for file in filenames[1:]:\n",
    "    if file.endswith(\".bmp\"):\n",
    "        if int(file[-5:-4])%2 ==0:\n",
    "            img = cv2.imread(os.path.join(calib_dir, file), 0)\n",
    "            cim.append(img)\n",
    "        else:\n",
    "            img = cv2.imread(os.path.join(calib_dir, file), 0)\n",
    "            bgim.append(img)"
   ]
  },
  {
   "cell_type": "code",
   "execution_count": 9,
   "metadata": {
    "collapsed": true
   },
   "outputs": [],
   "source": [
    "track_dir = \"data/tracking_data/\"\n",
    "red_tracks = [np.loadtxt(os.path.join(track_dir, file)) for file in os.listdir(track_dir) if file.startswith(\"red\")]\n",
    "green_tracks = [np.loadtxt(os.path.join(track_dir, file)) for file in os.listdir(track_dir) if file.startswith(\"green\")]"
   ]
  },
  {
   "cell_type": "markdown",
   "metadata": {},
   "source": [
    "## Green bubbles"
   ]
  },
  {
   "cell_type": "code",
   "execution_count": 10,
   "metadata": {
    "collapsed": true
   },
   "outputs": [],
   "source": [
    "tracks = []\n",
    "for file in os.listdir(track_dir):\n",
    "    if file == \"greenlit_green_bubble.csv\":\n",
    "        path = os.path.join(track_dir, file)\n",
    "        tracks += [get_tracking_data(path, bgim[0].shape)]\n",
    "        "
   ]
  },
  {
   "cell_type": "code",
   "execution_count": 11,
   "metadata": {
    "collapsed": true
   },
   "outputs": [],
   "source": [
    "radii = []\n",
    "green_subim = []\n",
    "res_circles = []\n",
    "for tr in tracks:\n",
    "    for marker in tr:\n",
    "        if marker.frame != 0:\n",
    "            subimg = extract_pad_image(bgim[int(marker.frame)-1], Point(marker.y, marker.x), window_size=60, pad_mode=\"constant\")\n",
    "            green_subim.append(subimg)\n",
    "            res_circ = green_bubble_one(subimg, method=\"hough\", hough_radii=np.arange(20,35,1), total_num_peaks=10, max_offset=10)\n",
    "            res_circles.append(res_circ)\n",
    "            radii += [res_circ.radius]"
   ]
  },
  {
   "cell_type": "code",
   "execution_count": 19,
   "metadata": {},
   "outputs": [
    {
     "data": {
      "text/plain": [
       "<matplotlib.image.AxesImage at 0x21cb3963e48>"
      ]
     },
     "execution_count": 19,
     "metadata": {},
     "output_type": "execute_result"
    },
    {
     "data": {
      "image/png": "[encoded data removed]",
      "text/plain": [
       "<matplotlib.figure.Figure at 0x21cb32529e8>"
      ]
     },
     "metadata": {},
     "output_type": "display_data"
    }
   ],
   "source": [
    "plt.imshow(green_subim[0])"
   ]
  },
  {
   "cell_type": "markdown",
   "metadata": {},
   "source": [
    "## Red bubbles"
   ]
  },
  {
   "cell_type": "code",
   "execution_count": 21,
   "metadata": {},
   "outputs": [],
   "source": [
    "radii = []\n",
    "red_subim = []\n",
    "res_circles = []\n",
    "for tr in tracks:\n",
    "    for i in range(len(tr)-1):\n",
    "        marker = tr[i]\n",
    "        next_marker = tr[i+1]\n",
    "        if marker.frame >= 0:\n",
    "            est_pos_x = (marker.x + next_marker.x)/2\n",
    "            est_pos_y = (marker.y + next_marker.y)/2\n",
    "            est_marker = Point(est_pos_x, est_pos_y, marker.frame)\n",
    "            subimg = extract_pad_image(cim[int(est_marker.frame)-1], \n",
    "                                       Point(est_marker.y, est_marker.x), \n",
    "                                       window_size=60, \n",
    "                                       pad_mode=\"constant\")\n",
    "            red_subim.append(subimg)            \n",
    "            res_circles.append(res_circ)\n",
    "            #radii += [res_circ.radius]"
   ]
  },
  {
   "cell_type": "code",
   "execution_count": 37,
   "metadata": {
    "collapsed": true
   },
   "outputs": [],
   "source": [
    "subimg = red_subim[2]"
   ]
  },
  {
   "cell_type": "code",
   "execution_count": 36,
   "metadata": {},
   "outputs": [
    {
     "data": {
      "text/plain": [
       "<matplotlib.colorbar.Colorbar at 0x21cb4d13c18>"
      ]
     },
     "execution_count": 36,
     "metadata": {},
     "output_type": "execute_result"
    },
    {
     "data": {
      "image/png": "[encoded data removed]",
      "text/plain": [
       "<matplotlib.figure.Figure at 0x21cb4cb22b0>"
      ]
     },
     "metadata": {},
     "output_type": "display_data"
    }
   ],
   "source": [
    "plt.imshow(red_subim[2])\n",
    "plt.colorbar()"
   ]
  },
  {
   "cell_type": "code",
   "execution_count": 27,
   "metadata": {
    "collapsed": true
   },
   "outputs": [],
   "source": [
    "smooth_mask = gen_smooth_mask((30,30), [2,2])"
   ]
  },
  {
   "cell_type": "code",
   "execution_count": 38,
   "metadata": {},
   "outputs": [
    {
     "name": "stdout",
     "output_type": "stream",
     "text": [
      "#-#-#-#-#-#- new_bubble -#-#-#-#-#-#- [[30 15]]\n",
      "first_peak_arg: 35\n",
      "second_peak_arg 5\n",
      "max_peak_x 45\n",
      "second_peak_x 15\n"
     ]
    }
   ],
   "source": [
    "res_circ = red_bubble_one(subimg, method=\"peak_dist\", verbose=True)"
   ]
  },
  {
   "cell_type": "code",
   "execution_count": 54,
   "metadata": {},
   "outputs": [
    {
     "name": "stdout",
     "output_type": "stream",
     "text": [
      "first_peak_arg: 35\n",
      "second_peak_arg 5\n",
      "max_peak_x 45\n",
      "second_peak_x 15\n",
      "first_peak_arg: 35\n",
      "second_peak_arg 5\n",
      "max_peak_x 45\n",
      "second_peak_x 15\n",
      "first_peak_arg: 35\n",
      "second_peak_arg 5\n",
      "max_peak_x 45\n",
      "second_peak_x 15\n",
      "first_peak_arg: 35\n",
      "second_peak_arg 5\n",
      "max_peak_x 45\n",
      "second_peak_x 15\n",
      "first_peak_arg: 35\n",
      "second_peak_arg 5\n",
      "max_peak_x 45\n",
      "second_peak_x 15\n",
      "first_peak_arg: 35\n",
      "second_peak_arg 5\n",
      "max_peak_x 45\n",
      "second_peak_x 15\n",
      "first_peak_arg: 35\n",
      "second_peak_arg 5\n",
      "max_peak_x 45\n",
      "second_peak_x 15\n",
      "first_peak_arg: 35\n",
      "second_peak_arg 5\n",
      "max_peak_x 45\n",
      "second_peak_x 15\n",
      "first_peak_arg: 35\n",
      "second_peak_arg 5\n",
      "max_peak_x 45\n",
      "second_peak_x 15\n",
      "first_peak_arg: 35\n",
      "second_peak_arg 5\n",
      "max_peak_x 45\n",
      "second_peak_x 15\n",
      "first_peak_arg: 35\n",
      "second_peak_arg 5\n",
      "max_peak_x 45\n",
      "second_peak_x 15\n",
      "first_peak_arg: 35\n",
      "second_peak_arg 5\n",
      "max_peak_x 45\n",
      "second_peak_x 15\n",
      "first_peak_arg: 35\n",
      "second_peak_arg 5\n",
      "max_peak_x 45\n",
      "second_peak_x 15\n",
      "first_peak_arg: 35\n",
      "second_peak_arg 5\n",
      "max_peak_x 45\n",
      "second_peak_x 15\n",
      "first_peak_arg: 35\n",
      "second_peak_arg 5\n",
      "max_peak_x 45\n",
      "second_peak_x 15\n",
      "first_peak_arg: 35\n",
      "second_peak_arg 5\n",
      "max_peak_x 45\n",
      "second_peak_x 15\n",
      "first_peak_arg: 35\n",
      "second_peak_arg 5\n",
      "max_peak_x 45\n",
      "second_peak_x 15\n",
      "first_peak_arg: 35\n",
      "second_peak_arg 5\n",
      "max_peak_x 45\n",
      "second_peak_x 15\n",
      "first_peak_arg: 35\n",
      "second_peak_arg 5\n",
      "max_peak_x 45\n",
      "second_peak_x 15\n",
      "first_peak_arg: 35\n",
      "second_peak_arg 5\n",
      "max_peak_x 45\n",
      "second_peak_x 15\n",
      "first_peak_arg: 35\n",
      "second_peak_arg 5\n",
      "max_peak_x 45\n",
      "second_peak_x 15\n",
      "first_peak_arg: 35\n",
      "second_peak_arg 5\n",
      "max_peak_x 45\n",
      "second_peak_x 15\n",
      "first_peak_arg: 35\n",
      "second_peak_arg 5\n",
      "max_peak_x 45\n",
      "second_peak_x 15\n",
      "first_peak_arg: 35\n",
      "second_peak_arg 5\n",
      "max_peak_x 45\n",
      "second_peak_x 15\n",
      "first_peak_arg: 35\n",
      "second_peak_arg 5\n",
      "max_peak_x 45\n",
      "second_peak_x 15\n",
      "first_peak_arg: 35\n",
      "second_peak_arg 5\n",
      "max_peak_x 45\n",
      "second_peak_x 15\n",
      "first_peak_arg: 35\n",
      "second_peak_arg 5\n",
      "max_peak_x 45\n",
      "second_peak_x 15\n",
      "first_peak_arg: 35\n",
      "second_peak_arg 5\n",
      "max_peak_x 45\n",
      "second_peak_x 15\n",
      "first_peak_arg: 35\n",
      "second_peak_arg 5\n",
      "max_peak_x 45\n",
      "second_peak_x 15\n",
      "first_peak_arg: 35\n",
      "second_peak_arg 5\n",
      "max_peak_x 45\n",
      "second_peak_x 15\n",
      "first_peak_arg: 35\n",
      "second_peak_arg 5\n",
      "max_peak_x 45\n",
      "second_peak_x 15\n",
      "first_peak_arg: 35\n",
      "second_peak_arg 5\n",
      "max_peak_x 45\n",
      "second_peak_x 15\n",
      "first_peak_arg: 35\n",
      "second_peak_arg 5\n",
      "max_peak_x 45\n",
      "second_peak_x 15\n",
      "first_peak_arg: 35\n",
      "second_peak_arg 5\n",
      "max_peak_x 45\n",
      "second_peak_x 15\n",
      "first_peak_arg: 35\n",
      "second_peak_arg 5\n",
      "max_peak_x 45\n",
      "second_peak_x 15\n",
      "first_peak_arg: 35\n",
      "second_peak_arg 5\n",
      "max_peak_x 45\n",
      "second_peak_x 15\n",
      "first_peak_arg: 35\n",
      "second_peak_arg 5\n",
      "max_peak_x 45\n",
      "second_peak_x 15\n",
      "first_peak_arg: 35\n",
      "second_peak_arg 5\n",
      "max_peak_x 45\n",
      "second_peak_x 15\n",
      "first_peak_arg: 35\n",
      "second_peak_arg 5\n",
      "max_peak_x 45\n",
      "second_peak_x 15\n",
      "first_peak_arg: 35\n",
      "second_peak_arg 5\n",
      "max_peak_x 45\n",
      "second_peak_x 15\n",
      "first_peak_arg: 35\n",
      "second_peak_arg 5\n",
      "max_peak_x 45\n",
      "second_peak_x 15\n",
      "first_peak_arg: 35\n",
      "second_peak_arg 5\n",
      "max_peak_x 45\n",
      "second_peak_x 15\n",
      "first_peak_arg: 35\n",
      "second_peak_arg 5\n",
      "max_peak_x 45\n",
      "second_peak_x 15\n",
      "first_peak_arg: 35\n",
      "second_peak_arg 5\n",
      "max_peak_x 45\n",
      "second_peak_x 15\n",
      "first_peak_arg: 35\n",
      "second_peak_arg 5\n",
      "max_peak_x 45\n",
      "second_peak_x 15\n",
      "first_peak_arg: 35\n",
      "second_peak_arg 5\n",
      "max_peak_x 45\n",
      "second_peak_x 15\n",
      "first_peak_arg: 35\n",
      "second_peak_arg 5\n",
      "max_peak_x 45\n",
      "second_peak_x 15\n",
      "first_peak_arg: 35\n",
      "second_peak_arg 5\n",
      "max_peak_x 45\n",
      "second_peak_x 15\n",
      "first_peak_arg: 35\n",
      "second_peak_arg 5\n",
      "max_peak_x 45\n",
      "second_peak_x 15\n",
      "first_peak_arg: 35\n",
      "second_peak_arg 5\n",
      "max_peak_x 45\n",
      "second_peak_x 15\n"
     ]
    }
   ],
   "source": [
    "radii = []\n",
    "sigma_list = np.arange(0, 5, 0.1)\n",
    "for sigma in sigma_list:\n",
    "    sm_subim = filters.gaussian(subimg)\n",
    "    res_circ = detec_bubble(subimg,\n",
    "                            calib_radius_func=lambda x: x,\n",
    "                            threshold_abs=50,\n",
    "                            min_distance = 10,\n",
    "                            classifier=\"bubble_forever\",\n",
    "                            output_shape=\"Circle\",\n",
    "                            signal_len=40,\n",
    "                            flip_signal=True,\n",
    "                            verbose=True)\n",
    "    \n",
    "    if isinstance(res_circ, Circle):\n",
    "        radii += [res_circ.radius]\n",
    "    elif isinstance(res_circ, list):\n",
    "        radii += [rc.radius for rc in res_circ]"
   ]
  },
  {
   "cell_type": "code",
   "execution_count": 55,
   "metadata": {},
   "outputs": [
    {
     "data": {
      "text/plain": [
       "[15.0,\n",
       " 15.0,\n",
       " 15.0,\n",
       " 15.0,\n",
       " 15.0,\n",
       " 15.0,\n",
       " 15.0,\n",
       " 15.0,\n",
       " 15.0,\n",
       " 15.0,\n",
       " 15.0,\n",
       " 15.0,\n",
       " 15.0,\n",
       " 15.0,\n",
       " 15.0,\n",
       " 15.0,\n",
       " 15.0,\n",
       " 15.0,\n",
       " 15.0,\n",
       " 15.0,\n",
       " 15.0,\n",
       " 15.0,\n",
       " 15.0,\n",
       " 15.0,\n",
       " 15.0,\n",
       " 15.0,\n",
       " 15.0,\n",
       " 15.0,\n",
       " 15.0,\n",
       " 15.0,\n",
       " 15.0,\n",
       " 15.0,\n",
       " 15.0,\n",
       " 15.0,\n",
       " 15.0,\n",
       " 15.0,\n",
       " 15.0,\n",
       " 15.0,\n",
       " 15.0,\n",
       " 15.0,\n",
       " 15.0,\n",
       " 15.0,\n",
       " 15.0,\n",
       " 15.0,\n",
       " 15.0,\n",
       " 15.0,\n",
       " 15.0,\n",
       " 15.0,\n",
       " 15.0,\n",
       " 15.0]"
      ]
     },
     "execution_count": 55,
     "metadata": {},
     "output_type": "execute_result"
    }
   ],
   "source": [
    "radii"
   ]
  },
  {
   "cell_type": "code",
   "execution_count": null,
   "metadata": {
    "collapsed": true
   },
   "outputs": [],
   "source": []
  }
 ],
 "metadata": {
  "kernelspec": {
   "display_name": "Python 3",
   "language": "python",
   "name": "python3"
  },
  "language_info": {
   "codemirror_mode": {
    "name": "ipython",
    "version": 3
   },
   "file_extension": ".py",
   "mimetype": "text/x-python",
   "name": "python",
   "nbconvert_exporter": "python",
   "pygments_lexer": "ipython3",
   "version": "3.6.2"
  }
 },
 "nbformat": 4,
 "nbformat_minor": 2
}

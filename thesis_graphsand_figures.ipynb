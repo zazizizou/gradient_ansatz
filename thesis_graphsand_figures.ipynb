{
 "cells": [
  {
   "cell_type": "code",
   "execution_count": 1,
   "metadata": {},
   "outputs": [],
   "source": [
    "import numpy as np\n",
    "import os\n",
    "import cv2\n",
    "import matplotlib.pyplot as plt\n",
    "import matplotlib.patches as patches\n",
    "%matplotlib inline\n",
    "import platform\n",
    "from scipy.optimize import curve_fit\n",
    "from mpl_toolkits.mplot3d import Axes3D\n",
    "from skimage import morphology, feature, transform, filters"
   ]
  },
  {
   "cell_type": "code",
   "execution_count": 55,
   "metadata": {},
   "outputs": [],
   "source": [
    "try:\n",
    "    from shapes import *\n",
    "    from detect_bubbles import *\n",
    "    from utils import *\n",
    "except ImportError:\n",
    "    pass"
   ]
  },
  {
   "cell_type": "code",
   "execution_count": 56,
   "metadata": {},
   "outputs": [
    {
     "name": "stderr",
     "output_type": "stream",
     "text": [
      "/Users/Habib/anaconda/lib/python3.5/site-packages/h5py/__init__.py:36: FutureWarning: Conversion of the second argument of issubdtype from `float` to `np.floating` is deprecated. In future, it will be treated as `np.float64 == np.dtype(float).type`.\n",
      "  from ._conv import register_converters as _register_converters\n",
      "Using TensorFlow backend.\n"
     ]
    }
   ],
   "source": [
    "from classify_bubble import *\n",
    "from bubbleNet1D import *"
   ]
  },
  {
   "cell_type": "code",
   "execution_count": 57,
   "metadata": {},
   "outputs": [],
   "source": [
    "%load_ext autoreload\n",
    "%autoreload 2"
   ]
  },
  {
   "cell_type": "code",
   "execution_count": null,
   "metadata": {},
   "outputs": [],
   "source": []
  },
  {
   "cell_type": "code",
   "execution_count": 2,
   "metadata": {},
   "outputs": [],
   "source": [
    "def show_bubble_circle(image, circ, color=\"red\"):\n",
    "    fig1 = plt.figure(figsize=(8,8))\n",
    "    ax1 = fig1.add_subplot(111, aspect='equal')\n",
    "    plt.imshow(image, cmap=\"gray\")\n",
    "    ax1.add_patch(\n",
    "                patches.Circle(\n",
    "                    (circ.y, circ.x),   \n",
    "                    circ.radius,\n",
    "                    fill=False,\n",
    "                    color=color))"
   ]
  },
  {
   "cell_type": "code",
   "execution_count": 3,
   "metadata": {},
   "outputs": [],
   "source": [
    "plat = platform.system()\n",
    "if plat == \"Darwin\":\n",
    "    calib_dir =  \"/Users/Habib/Google Drive/Uni Heidelberg/11 WS 2017-2018/Masterarbeit/Messungen/Reihe_32_calib_radius\" \n",
    "elif plat == \"Windows\":\n",
    "    calib_dir = \"../Messungen/Reihe_32_calib_radius/\""
   ]
  },
  {
   "cell_type": "code",
   "execution_count": 4,
   "metadata": {},
   "outputs": [],
   "source": [
    "cim = []\n",
    "bgim = []\n",
    "filenames = []\n",
    "for file in os.listdir(calib_dir):\n",
    "    filenames.append(file)\n",
    "\n",
    "filenames.sort() # sort after creation date since date is in the name"
   ]
  },
  {
   "cell_type": "code",
   "execution_count": 5,
   "metadata": {},
   "outputs": [],
   "source": [
    "cim = []\n",
    "bgim = []\n",
    "for file in filenames[1:]:\n",
    "    if file.endswith(\".bmp\"):\n",
    "        if int(file[-5:-4])%2 ==0:\n",
    "            img = cv2.imread(os.path.join(calib_dir, file), 0)\n",
    "            cim.append(img)\n",
    "        else:\n",
    "            img = cv2.imread(os.path.join(calib_dir, file), 0)\n",
    "            bgim.append(img)"
   ]
  },
  {
   "cell_type": "markdown",
   "metadata": {},
   "source": [
    "## The algorithm -> Radius calibration -> green radius"
   ]
  },
  {
   "cell_type": "code",
   "execution_count": 20,
   "metadata": {},
   "outputs": [],
   "source": [
    "green_bubble =  bgim[0][75:135, 675:730]"
   ]
  },
  {
   "cell_type": "code",
   "execution_count": 21,
   "metadata": {},
   "outputs": [
    {
     "data": {
      "text/plain": [
       "<matplotlib.image.AxesImage at 0x12561e5c0>"
      ]
     },
     "execution_count": 21,
     "metadata": {},
     "output_type": "execute_result"
    },
    {
     "data": {
      "image/png": "[encoded data removed]",
      "text/plain": [
       "<matplotlib.figure.Figure at 0x1248f1ef0>"
      ]
     },
     "metadata": {},
     "output_type": "display_data"
    }
   ],
   "source": [
    "plt.imshow(green_bubble)"
   ]
  },
  {
   "cell_type": "code",
   "execution_count": 24,
   "metadata": {},
   "outputs": [],
   "source": [
    "edges = filters.sobel(green_bubble)"
   ]
  },
  {
   "cell_type": "code",
   "execution_count": 77,
   "metadata": {},
   "outputs": [],
   "source": [
    "edges_profile = np.loadtxt(\"../thesis/extern/edges_profile.csv\", skiprows=1, delimiter=\",\")"
   ]
  },
  {
   "cell_type": "code",
   "execution_count": 78,
   "metadata": {},
   "outputs": [
    {
     "data": {
      "text/plain": [
       "[<matplotlib.lines.Line2D at 0x13a8cbac8>]"
      ]
     },
     "execution_count": 78,
     "metadata": {},
     "output_type": "execute_result"
    },
    {
     "data": {
      "image/png": "[encoded data removed]",
      "text/plain": [
       "<matplotlib.figure.Figure at 0x13a624da0>"
      ]
     },
     "metadata": {},
     "output_type": "display_data"
    }
   ],
   "source": [
    "from scipy.ndimage.filters import gaussian_filter1d\n",
    "ydata = gaussian_filter1d(edges_profile.T[1], sigma=2)\n",
    "plt.plot(ydata)"
   ]
  },
  {
   "cell_type": "code",
   "execution_count": 59,
   "metadata": {},
   "outputs": [],
   "source": [
    "xdata = np.arange(0, len(ydata))"
   ]
  },
  {
   "cell_type": "code",
   "execution_count": 85,
   "metadata": {},
   "outputs": [],
   "source": [
    "def gauss(x, a, mu, sigma):\n",
    "    return a * np.exp(- (x - mu)**2/sigma**2)"
   ]
  },
  {
   "cell_type": "code",
   "execution_count": 86,
   "metadata": {},
   "outputs": [],
   "source": [
    "popt1, _ = curve_fit(gauss, xdata, ydata, p0=[30, 5, 2])\n",
    "popt2, _ = curve_fit(gauss, xdata, ydata, p0=[30, 56, 2])"
   ]
  },
  {
   "cell_type": "code",
   "execution_count": 90,
   "metadata": {},
   "outputs": [
    {
     "data": {
      "image/png": "[encoded data removed]",
      "text/plain": [
       "<matplotlib.figure.Figure at 0x13ae30390>"
      ]
     },
     "metadata": {},
     "output_type": "display_data"
    }
   ],
   "source": [
    "plt.plot(ydata, 'x', label=\"edge profile\")\n",
    "plt.plot(xdata, gauss(xdata, *popt1), label=\"fit 1st maximum\")\n",
    "plt.plot(xdata, gauss(xdata, *popt2), label=\"fit 3rd maximum\")\n",
    "plt.xlabel(\"Distance [px]\")\n",
    "plt.ylabel(\"Gray value\")\n",
    "plt.legend()\n",
    "plt.savefig(\"../thesis/graphs/green_radius_demo.png\")"
   ]
  },
  {
   "cell_type": "markdown",
   "metadata": {},
   "source": [
    "# The algorithm -> radius calibration -> factor"
   ]
  },
  {
   "cell_type": "code",
   "execution_count": 136,
   "metadata": {},
   "outputs": [],
   "source": [
    "# data from radius_calibration.ipynb\n",
    "\n",
    "red_radii = []\n",
    "green_radii = []\n",
    "\n",
    "red_radii.append( [15.5, 15, 16, 16, 15.5, 16])\n",
    "green_radii.append( [19.35, 20.05, 20.02, 20.09])\n",
    "\n",
    "red_radii.append( [7, 7.5, 6, 7.5, 7.5, 7, 7.5, 6.5] )\n",
    "green_radii.append( [12.09, 11.22, 12.07, 11.02])\n",
    "\n",
    "red_radii.append([11.5, 11, 11.5])\n",
    "green_radii.append( [14.07, 14.87, 15] )\n",
    "\n",
    "red_radii.append([9, 9.5, 9.5, 9, 9.5, 10])\n",
    "green_radii.append([13.06, 13.93, 14.01] )\n",
    "\n"
   ]
  },
  {
   "cell_type": "code",
   "execution_count": 137,
   "metadata": {},
   "outputs": [],
   "source": [
    "x_data = [np.mean(r) for r in red_radii]\n",
    "y_data = [np.mean(g) for g in green_radii]\n",
    "y_err = [np.std(r) for r in red_radii]\n",
    "x_err = [np.std(g) for g in green_radii]"
   ]
  },
  {
   "cell_type": "code",
   "execution_count": 139,
   "metadata": {},
   "outputs": [],
   "source": [
    "def lin(x, a, b):\n",
    "    return a*x +b"
   ]
  },
  {
   "cell_type": "code",
   "execution_count": 140,
   "metadata": {},
   "outputs": [],
   "source": [
    "popt_lin, _ = curve_fit(lin, x_data, y_data)"
   ]
  },
  {
   "cell_type": "code",
   "execution_count": 147,
   "metadata": {},
   "outputs": [
    {
     "data": {
      "text/plain": [
       "array([0.95690246, 4.54637797])"
      ]
     },
     "execution_count": 147,
     "metadata": {},
     "output_type": "execute_result"
    }
   ],
   "source": [
    "popt_lin"
   ]
  },
  {
   "cell_type": "code",
   "execution_count": 150,
   "metadata": {},
   "outputs": [
    {
     "data": {
      "image/png": "[encoded data removed]",
      "text/plain": [
       "<matplotlib.figure.Figure at 0x13be16080>"
      ]
     },
     "metadata": {},
     "output_type": "display_data"
    }
   ],
   "source": [
    "plt.errorbar(x_data, y_data, xerr=x_err, yerr=y_err, fmt='rx', ecolor='b', label=\"\")\n",
    "plt.plot(x_data, lin(np.asarray(x_data), *popt_lin), 'g', label=\"Linear fit\")\n",
    "plt.xlabel(\"Radius of bubbles lit from below [px]\")\n",
    "plt.ylabel(\"Radius of back lit bubbles [px]\")\n",
    "plt.legend()\n",
    "plt.savefig(\"../thesis/graphs/radius_calibration_result.png\")"
   ]
  },
  {
   "cell_type": "code",
   "execution_count": null,
   "metadata": {},
   "outputs": [],
   "source": []
  }
 ],
 "metadata": {
  "anaconda-cloud": {},
  "kernelspec": {
   "display_name": "Python [conda env:anaconda]",
   "language": "python",
   "name": "conda-env-anaconda-py"
  },
  "language_info": {
   "codemirror_mode": {
    "name": "ipython",
    "version": 3
   },
   "file_extension": ".py",
   "mimetype": "text/x-python",
   "name": "python",
   "nbconvert_exporter": "python",
   "pygments_lexer": "ipython3",
   "version": "3.5.2"
  }
 },
 "nbformat": 4,
 "nbformat_minor": 1
}
